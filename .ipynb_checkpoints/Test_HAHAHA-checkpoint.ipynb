{
 "cells": [
  {
   "cell_type": "code",
   "execution_count": 1,
   "id": "04baffa9-aee4-4960-8314-ca898cb85473",
   "metadata": {},
   "outputs": [
    {
     "name": "stdout",
     "output_type": "stream",
     "text": [
      "🎯 Randomly selected example score:\n",
      "./example_scores/example_score_5.ly\n"
     ]
    }
   ],
   "source": [
    "import glob\n",
    "import random\n",
    "import os\n",
    "\n",
    "# Simulate the example_scores directory\n",
    "example_scores_dir = \"./example_scores\"  # make sure this path exists in your environment\n",
    "\n",
    "\n",
    "# List all matching files\n",
    "example_files = glob.glob(os.path.join(example_scores_dir, \"example_score_*.ly\"))\n",
    "\n",
    "# Randomly pick one\n",
    "random_example_path = random.choice(example_files)\n",
    "\n",
    "# Print the selected file\n",
    "print(\"🎯 Randomly selected example score:\")\n",
    "print(random_example_path)\n"
   ]
  }
 ],
 "metadata": {
  "kernelspec": {
   "display_name": "Python 3 (ipykernel)",
   "language": "python",
   "name": "python3"
  },
  "language_info": {
   "codemirror_mode": {
    "name": "ipython",
    "version": 3
   },
   "file_extension": ".py",
   "mimetype": "text/x-python",
   "name": "python",
   "nbconvert_exporter": "python",
   "pygments_lexer": "ipython3",
   "version": "3.11.4"
  }
 },
 "nbformat": 4,
 "nbformat_minor": 5
}
